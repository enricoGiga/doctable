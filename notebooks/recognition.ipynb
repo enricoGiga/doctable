{
 "cells": [
  {
   "cell_type": "code",
   "execution_count": null,
   "id": "initial_id",
   "metadata": {
    "collapsed": true,
    "jupyter": {
     "outputs_hidden": true
    }
   },
   "outputs": [],
   "source": [
    "import os\n",
    "os.environ['PROJECT_DIR'] = os.path.dirname(os.getcwd())\n",
    "from doctable.table_recognition.recognition import TableRecognizer\n",
    "from IPython.display import HTML, Image, display"
   ]
  },
  {
   "cell_type": "code",
   "execution_count": null,
   "id": "d3a2e2537c65748a",
   "metadata": {
    "collapsed": false
   },
   "outputs": [],
   "source": [
    "cropped_table_path = f\"{os.environ['PROJECT_DIR']}/data/images/table.png\"\n",
    "Image(filename=cropped_table_path) \n",
    "table_recognizer = TableRecognizer()\n",
    "results = table_recognizer.recognize(cropped_table_path)"
   ]
  },
  {
   "cell_type": "code",
   "execution_count": null,
   "id": "24b858234903027e",
   "metadata": {
    "collapsed": false
   },
   "outputs": [],
   "source": [
    "for result in results:\n",
    "    display(HTML(result[\"res\"][\"html\"]))"
   ]
  }
 ],
 "metadata": {
  "kernelspec": {
   "display_name": "Python 3 (ipykernel)",
   "language": "python",
   "name": "python3"
  },
  "language_info": {
   "codemirror_mode": {
    "name": "ipython",
    "version": 3
   },
   "file_extension": ".py",
   "mimetype": "text/x-python",
   "name": "python",
   "nbconvert_exporter": "python",
   "pygments_lexer": "ipython3",
   "version": "3.9.13"
  }
 },
 "nbformat": 4,
 "nbformat_minor": 5
}
