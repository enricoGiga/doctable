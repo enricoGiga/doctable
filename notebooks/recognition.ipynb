{
 "cells": [
  {
   "cell_type": "code",
   "execution_count": 1,
   "id": "initial_id",
   "metadata": {
    "collapsed": true,
    "jupyter": {
     "outputs_hidden": true
    },
    "ExecuteTime": {
     "end_time": "2023-11-26T10:26:52.394490900Z",
     "start_time": "2023-11-26T10:26:51.385027100Z"
    }
   },
   "outputs": [],
   "source": [
    "import os\n",
    "os.environ['PROJECT_DIR'] = os.path.dirname(os.getcwd())\n",
    "from doctable.table_recognition.recognition import TableRecognizer\n",
    "from IPython.display import HTML, Image, display"
   ]
  },
  {
   "cell_type": "code",
   "execution_count": 2,
   "id": "d3a2e2537c65748a",
   "metadata": {
    "collapsed": false,
    "ExecuteTime": {
     "end_time": "2023-11-26T10:26:58.977139600Z",
     "start_time": "2023-11-26T10:26:52.998423500Z"
    }
   },
   "outputs": [],
   "source": [
    "cropped_table_path = f\"{os.environ['PROJECT_DIR']}/data/images/table.png\"\n",
    "Image(filename=cropped_table_path) \n",
    "table_recognizer = TableRecognizer()\n",
    "results = table_recognizer.recognize(cropped_table_path)"
   ]
  },
  {
   "cell_type": "code",
   "execution_count": 3,
   "id": "24b858234903027e",
   "metadata": {
    "collapsed": false,
    "ExecuteTime": {
     "end_time": "2023-11-26T10:26:58.993137500Z",
     "start_time": "2023-11-26T10:26:58.981141400Z"
    }
   },
   "outputs": [
    {
     "data": {
      "text/plain": "<IPython.core.display.HTML object>",
      "text/html": "<html><body><table><thead><tr><td>Method</td><td>Advantages</td><td>Disadvantages</td></tr></thead><tbody><tr><td>Wavelet</td><td>High Compression Ratio State-Of-The-Art</td><td>Coefficient quantization Bit allocation</td></tr><tr><td>JPEG</td><td>Current Standard</td><td>Coefficient(dct) quantization Bit allocation</td></tr><tr><td>VQ</td><td>Simple decoder No-coefficient quantization</td><td>Slow codebook generation Small bpp</td></tr><tr><td>Fractal</td><td>Good mathematical Encoding-frame</td><td>Slow Encoding</td></tr></tbody></table></body></html>"
     },
     "metadata": {},
     "output_type": "display_data"
    }
   ],
   "source": [
    "for result in results:\n",
    "    display(HTML(result[\"res\"][\"html\"]))"
   ]
  },
  {
   "cell_type": "code",
   "execution_count": null,
   "outputs": [],
   "source": [],
   "metadata": {
    "collapsed": false
   },
   "id": "2cd0b528e3651719"
  }
 ],
 "metadata": {
  "kernelspec": {
   "display_name": "Python 3 (ipykernel)",
   "language": "python",
   "name": "python3"
  },
  "language_info": {
   "codemirror_mode": {
    "name": "ipython",
    "version": 3
   },
   "file_extension": ".py",
   "mimetype": "text/x-python",
   "name": "python",
   "nbconvert_exporter": "python",
   "pygments_lexer": "ipython3",
   "version": "3.9.13"
  }
 },
 "nbformat": 4,
 "nbformat_minor": 5
}
