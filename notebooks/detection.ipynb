{
 "cells": [
  {
   "cell_type": "code",
   "execution_count": null,
   "outputs": [],
   "source": [
    "import os\n",
    "os.environ['PROJECT_DIR'] = os.path.dirname(os.getcwd())\n",
    "from ultralyticsplus import render_result\n",
    "\n",
    "from doctable.table_detection.detection import TableDetector\n"
   ],
   "metadata": {
    "collapsed": false
   },
   "id": "745b988d99bbde33"
  },
  {
   "cell_type": "code",
   "execution_count": null,
   "outputs": [],
   "source": [
    "image = f\"{os.environ['PROJECT_DIR']}/data/images/detection_img2.jpg\"\n",
    "table_detector = TableDetector()"
   ],
   "metadata": {
    "collapsed": false
   },
   "id": "c29fb0df882fc05e"
  },
  {
   "cell_type": "code",
   "execution_count": null,
   "outputs": [],
   "source": [
    "# perform inference\n",
    "results = table_detector.predict(image)\n",
    "\n",
    "render = render_result(model=table_detector.model, image=image, result=results[0])\n",
    "render.show()"
   ],
   "metadata": {
    "collapsed": false
   },
   "id": "initial_id"
  },
  {
   "cell_type": "code",
   "execution_count": null,
   "id": "185c92f769ec01df",
   "metadata": {
    "collapsed": false
   },
   "outputs": [],
   "source": [
    "pdf_path = f\"{os.environ['PROJECT_DIR']}/data/images/detection_img1.jpg\"\n",
    "\n",
    "table_detector.show_detection_results(pdf_path)"
   ]
  }
 ],
 "metadata": {
  "kernelspec": {
   "display_name": "Python 3 (ipykernel)",
   "language": "python",
   "name": "python3"
  },
  "language_info": {
   "codemirror_mode": {
    "name": "ipython",
    "version": 3
   },
   "file_extension": ".py",
   "mimetype": "text/x-python",
   "name": "python",
   "nbconvert_exporter": "python",
   "pygments_lexer": "ipython3",
   "version": "3.9.13"
  }
 },
 "nbformat": 4,
 "nbformat_minor": 5
}
