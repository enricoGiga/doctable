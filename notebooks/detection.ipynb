{
 "cells": [
  {
   "cell_type": "code",
   "execution_count": 1,
   "outputs": [],
   "source": [
    "import os\n",
    "project_dir = os.path.dirname(os.getcwd())\n",
    "from ultralyticsplus import render_result\n",
    "from src.table_detection.detection import TableDetector"
   ],
   "metadata": {
    "collapsed": false,
    "ExecuteTime": {
     "end_time": "2023-11-29T08:22:24.720024500Z",
     "start_time": "2023-11-29T08:22:20.730414Z"
    }
   },
   "id": "745b988d99bbde33"
  },
  {
   "cell_type": "code",
   "execution_count": 2,
   "outputs": [],
   "source": [
    "\n",
    "\n",
    "image = f\"{project_dir}/data/images/detection_img2.jpg\"\n",
    "table_detector = TableDetector()"
   ],
   "metadata": {
    "collapsed": false,
    "ExecuteTime": {
     "end_time": "2023-11-29T08:22:28.160816Z",
     "start_time": "2023-11-29T08:22:27.321473400Z"
    }
   },
   "id": "c29fb0df882fc05e"
  },
  {
   "cell_type": "code",
   "execution_count": 3,
   "outputs": [
    {
     "name": "stderr",
     "output_type": "stream",
     "text": [
      "Ultralytics YOLOv8.0.43  Python-3.9.13 torch-2.1.1+cu121 CUDA:0 (NVIDIA GeForce RTX 2060 SUPER, 8192MiB)\n",
      "Model summary (fused): 168 layers, 11126358 parameters, 0 gradients, 28.4 GFLOPs\n",
      "\n",
      "image 1/1 C:\\Users\\enric\\PycharmProjects\\doctable\\data\\images\\detection_img2.jpg: 640x480 1 bordered, 83.5ms\n",
      "Speed: 1.0ms preprocess, 83.5ms inference, 618.5ms postprocess per image at shape (1, 3, 640, 640)\n"
     ]
    }
   ],
   "source": [
    "# perform inference\n",
    "results = table_detector.predict(image)\n",
    "\n",
    "render = render_result(model=table_detector.model, image=image, result=results[0])\n",
    "render.show()"
   ],
   "metadata": {
    "collapsed": false,
    "ExecuteTime": {
     "end_time": "2023-11-29T08:22:38.723035600Z",
     "start_time": "2023-11-29T08:22:31.793617500Z"
    }
   },
   "id": "initial_id"
  },
  {
   "cell_type": "code",
   "execution_count": null,
   "id": "185c92f769ec01df",
   "metadata": {
    "collapsed": false
   },
   "outputs": [],
   "source": [
    "pdf_path = f\"{project_dir}/data/images/detection_img1.jpg\"\n",
    "\n",
    "table_detector.show_detection_results(pdf_path)"
   ]
  }
 ],
 "metadata": {
  "kernelspec": {
   "display_name": "Python 3 (ipykernel)",
   "language": "python",
   "name": "python3"
  },
  "language_info": {
   "codemirror_mode": {
    "name": "ipython",
    "version": 3
   },
   "file_extension": ".py",
   "mimetype": "text/x-python",
   "name": "python",
   "nbconvert_exporter": "python",
   "pygments_lexer": "ipython3",
   "version": "3.9.13"
  }
 },
 "nbformat": 4,
 "nbformat_minor": 5
}
