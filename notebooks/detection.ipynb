{
 "cells": [
  {
   "cell_type": "code",
   "execution_count": 1,
   "outputs": [],
   "source": [
    "import os\n",
    "os.environ['PROJECT_DIR'] = os.path.dirname(os.getcwd())\n",
    "from ultralyticsplus import render_result\n",
    "\n",
    "from doctable.table_detection.detection import TableDetector\n"
   ],
   "metadata": {
    "collapsed": false,
    "ExecuteTime": {
     "end_time": "2023-11-27T11:47:29.226525400Z",
     "start_time": "2023-11-27T11:47:21.311391100Z"
    }
   },
   "id": "745b988d99bbde33"
  },
  {
   "cell_type": "code",
   "execution_count": 2,
   "outputs": [],
   "source": [
    "image = f\"{os.environ['PROJECT_DIR']}/data/images/detection_img2.jpg\"\n",
    "table_detector = TableDetector()"
   ],
   "metadata": {
    "collapsed": false,
    "ExecuteTime": {
     "end_time": "2023-11-27T11:47:30.248603700Z",
     "start_time": "2023-11-27T11:47:29.229525Z"
    }
   },
   "id": "c29fb0df882fc05e"
  },
  {
   "cell_type": "code",
   "execution_count": null,
   "outputs": [],
   "source": [
    "# perform inference\n",
    "results = table_detector.predict(image)\n",
    "\n",
    "render = render_result(model=table_detector.model, image=image, result=results[0])\n",
    "render.show()"
   ],
   "metadata": {
    "collapsed": false
   },
   "id": "initial_id"
  },
  {
   "cell_type": "code",
   "execution_count": 3,
   "id": "185c92f769ec01df",
   "metadata": {
    "collapsed": false,
    "ExecuteTime": {
     "end_time": "2023-11-27T11:47:33.739637500Z",
     "start_time": "2023-11-27T11:47:32.066858700Z"
    }
   },
   "outputs": [
    {
     "name": "stderr",
     "output_type": "stream",
     "text": [
      "Ultralytics YOLOv8.0.43  Python-3.9.13 torch-2.1.1+cu121 CUDA:0 (NVIDIA GeForce RTX 2060 SUPER, 8192MiB)\n",
      "Model summary (fused): 168 layers, 11126358 parameters, 0 gradients, 28.4 GFLOPs\n",
      "\n",
      "0: 640x480 1 borderless, 59.5ms\n",
      "Speed: 1.0ms preprocess, 59.5ms inference, 378.1ms postprocess per image at shape (1, 3, 640, 640)\n",
      "C:\\Users\\enric\\PycharmProjects\\doctable\\doctable\\table_detection\\detection.py:121: UserWarning: FigureCanvasAgg is non-interactive, and thus cannot be shown\n",
      "  plt.show()\n"
     ]
    }
   ],
   "source": [
    "pdf_path = f\"{os.environ['PROJECT_DIR']}/data/images/detection_img1.jpg\"\n",
    "\n",
    "table_detector.show_detection_results(pdf_path)"
   ]
  },
  {
   "cell_type": "code",
   "execution_count": null,
   "id": "1dee0028bd17d392",
   "metadata": {
    "collapsed": false
   },
   "outputs": [],
   "source": []
  }
 ],
 "metadata": {
  "kernelspec": {
   "display_name": "Python 3 (ipykernel)",
   "language": "python",
   "name": "python3"
  },
  "language_info": {
   "codemirror_mode": {
    "name": "ipython",
    "version": 3
   },
   "file_extension": ".py",
   "mimetype": "text/x-python",
   "name": "python",
   "nbconvert_exporter": "python",
   "pygments_lexer": "ipython3",
   "version": "3.9.13"
  }
 },
 "nbformat": 4,
 "nbformat_minor": 5
}
