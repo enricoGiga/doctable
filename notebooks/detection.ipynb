{
 "cells": [
  {
   "cell_type": "code",
   "execution_count": 1,
   "outputs": [],
   "source": [
    "import os\n",
    "os.environ['PROJECT_DIR'] = os.path.dirname(os.getcwd())\n",
    "from ultralyticsplus import render_result\n",
    "\n",
    "from doctable.table_detection.detection import TableDetector\n"
   ],
   "metadata": {
    "collapsed": false,
    "ExecuteTime": {
     "end_time": "2023-11-27T08:33:31.412078400Z",
     "start_time": "2023-11-27T08:33:27.451823Z"
    }
   },
   "id": "745b988d99bbde33"
  },
  {
   "cell_type": "code",
   "execution_count": 2,
   "outputs": [],
   "source": [
    "image = f\"{os.environ['PROJECT_DIR']}/data/images/detection_img2.jpg\"\n",
    "table_detector = TableDetector()"
   ],
   "metadata": {
    "collapsed": false,
    "ExecuteTime": {
     "end_time": "2023-11-27T08:33:32.190558200Z",
     "start_time": "2023-11-27T08:33:31.414076300Z"
    }
   },
   "id": "c29fb0df882fc05e"
  },
  {
   "cell_type": "code",
   "execution_count": null,
   "outputs": [],
   "source": [
    "# perform inference\n",
    "results = table_detector.predict(image)\n",
    "\n",
    "render = render_result(model=table_detector.model, image=image, result=results[0])\n",
    "render.show()"
   ],
   "metadata": {
    "collapsed": false
   },
   "id": "initial_id"
  },
  {
   "cell_type": "code",
   "execution_count": 6,
   "id": "185c92f769ec01df",
   "metadata": {
    "collapsed": false,
    "ExecuteTime": {
     "end_time": "2023-11-27T08:37:09.301020600Z",
     "start_time": "2023-11-27T08:37:02.513447600Z"
    }
   },
   "outputs": [
    {
     "name": "stderr",
     "output_type": "stream",
     "text": [
      "\n",
      "0: 640x480 1 borderless, 92.9ms\n",
      "Speed: 2.0ms preprocess, 92.9ms inference, 3.0ms postprocess per image at shape (1, 3, 640, 640)\n"
     ]
    }
   ],
   "source": [
    "\n",
    "import matplotlib\n",
    "matplotlib.use('Qt5Agg')\n",
    "pdf_path = f\"{os.environ['PROJECT_DIR']}/data/images/detection_img1.jpg\"\n",
    "\n",
    "table_detector.show_detection_results(pdf_path)"
   ]
  },
  {
   "cell_type": "code",
   "execution_count": null,
   "id": "1dee0028bd17d392",
   "metadata": {
    "collapsed": false
   },
   "outputs": [],
   "source": []
  }
 ],
 "metadata": {
  "kernelspec": {
   "display_name": "Python 3 (ipykernel)",
   "language": "python",
   "name": "python3"
  },
  "language_info": {
   "codemirror_mode": {
    "name": "ipython",
    "version": 3
   },
   "file_extension": ".py",
   "mimetype": "text/x-python",
   "name": "python",
   "nbconvert_exporter": "python",
   "pygments_lexer": "ipython3",
   "version": "3.9.13"
  }
 },
 "nbformat": 4,
 "nbformat_minor": 5
}
